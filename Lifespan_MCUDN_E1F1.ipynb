{
 "cells": [
  {
   "cell_type": "code",
   "execution_count": 23,
   "metadata": {},
   "outputs": [],
   "source": [
    "import pandas as pd\n",
    "import numpy as np"
   ]
  },
  {
   "cell_type": "code",
   "execution_count": 24,
   "metadata": {},
   "outputs": [],
   "source": [
    "xl = pd.ExcelFile(\"Lifespan_MCUDN_E1F1.xlsx\")\n",
    "\n",
    "Dict_Excel_Sheets = {\n",
    "    sheets: xl.parse(sheets, nrows=3, header=None, index_col=0).T.set_index(\"Days\")\n",
    "    for sheets in xl.sheet_names\n",
    "}"
   ]
  },
  {
   "cell_type": "code",
   "execution_count": 25,
   "metadata": {},
   "outputs": [],
   "source": [
    "def convert_to_lifespan_readable(\n",
    "    DF, Col_Head=\"Unnamed\", Col_Num_Dead=\"Total Deaths\", Col_Num_Cens=\"Total Escape\"\n",
    "):\n",
    "    \"\"\"\n",
    "    Input: Takes DataFrame and string Col_Head\n",
    "    Functon: Converts counts dead and censors into binary format for survival curve (e.g. 11100)\n",
    "    Output: DataFrame with string Col_Head as column title.\n",
    "    \"\"\"\n",
    "\n",
    "    if Col_Num_Dead and Col_Num_Cens not in DF.columns:\n",
    "        return print(f\"'{Col_Num_Dead}' and '{Col_Num_Cens}' are not columns in DF\")\n",
    "    \n",
    "    Binary_Num_Dead_Cens = np.empty(0)\n",
    "    BinaryNoDays = np.empty(0)\n",
    "\n",
    "    for index in DF.index:\n",
    "        Number_Dead = DF.loc[index, Col_Num_Dead]\n",
    "        Number_Cens = DF.loc[index, Col_Num_Cens]\n",
    "        Number_Dead_Cens = np.append(np.ones(Number_Dead), np.zeros(Number_Cens))\n",
    "        Binary_Num_Dead_Cens = np.append(Binary_Num_Dead_Cens, Number_Dead_Cens)\n",
    "        BinaryNoDays = np.append(\n",
    "            BinaryNoDays, np.repeat(index, Number_Dead + Number_Cens)\n",
    "        )\n",
    "\n",
    "    DF_Life = pd.DataFrame(data=Binary_Num_Dead_Cens, index=BinaryNoDays, dtype=\"int32\")\n",
    "    DF_Life.columns = [Col_Head]\n",
    "    return DF_Life"
   ]
  },
  {
   "cell_type": "code",
   "execution_count": 26,
   "metadata": {},
   "outputs": [],
   "source": [
    "def dict_concat_2_LifespanDF(Dict_Excel_Sheets):\n",
    "    \"\"\"\n",
    "    Input: Takes Dictionary of excel sheet dataframes.\n",
    "    Functon: \n",
    "    Output: \n",
    "    \"\"\"\n",
    "\n",
    "    DF = pd.DataFrame()\n",
    "\n",
    "    for keys in Dict_Excel_Sheets:\n",
    "        Temp_DF = convert_to_lifespan_readable(\n",
    "            Dict_Excel_Sheets.get(keys), Col_Head=keys\n",
    "        )\n",
    "        DF = pd.concat([DF, Temp_DF], sort=True)\n",
    "\n",
    "    return DF"
   ]
  },
  {
   "cell_type": "code",
   "execution_count": 27,
   "metadata": {},
   "outputs": [],
   "source": [
    "DF_Lifespan = dict_concat_2_LifespanDF(Dict_Excel_Sheets)"
   ]
  },
  {
   "cell_type": "code",
   "execution_count": 30,
   "metadata": {},
   "outputs": [],
   "source": [
    "DF_Lifespan.filter(regex=(\"MCU\")).dropna(how=\"all\").to_clipboard()"
   ]
  },
  {
   "cell_type": "code",
   "execution_count": 21,
   "metadata": {},
   "outputs": [],
   "source": [
    "DF_Lifespan.filter(regex=(\"MCUDN\")).to_clipboard()"
   ]
  },
  {
   "cell_type": "code",
   "execution_count": 15,
   "metadata": {},
   "outputs": [
    {
     "name": "stderr",
     "output_type": "stream",
     "text": [
      "/Users/morriso1/opt/anaconda3/envs/ImageAnalysis/lib/python3.7/site-packages/pandas/io/clipboards.py:117: FutureWarning: The signature of `Series.to_csv` was aligned to that of `DataFrame.to_csv`, and argument 'header' will change its default value from False to True: please pass an explicit value to suppress this warning.\n",
      "  obj.to_csv(buf, sep=sep, encoding=\"utf-8\", **kwargs)\n"
     ]
    }
   ],
   "source": [
    "DF_Lifespan[\"MCUDN. RU486\"].to_clipboard()"
   ]
  },
  {
   "cell_type": "code",
   "execution_count": 13,
   "metadata": {},
   "outputs": [
    {
     "data": {
      "text/html": [
       "<div>\n",
       "<style scoped>\n",
       "    .dataframe tbody tr th:only-of-type {\n",
       "        vertical-align: middle;\n",
       "    }\n",
       "\n",
       "    .dataframe tbody tr th {\n",
       "        vertical-align: top;\n",
       "    }\n",
       "\n",
       "    .dataframe thead th {\n",
       "        text-align: right;\n",
       "    }\n",
       "</style>\n",
       "<table border=\"1\" class=\"dataframe\">\n",
       "  <thead>\n",
       "    <tr style=\"text-align: right;\">\n",
       "      <th></th>\n",
       "      <th>Unnamed</th>\n",
       "    </tr>\n",
       "  </thead>\n",
       "  <tbody>\n",
       "    <tr>\n",
       "      <th>3.0</th>\n",
       "      <td>1</td>\n",
       "    </tr>\n",
       "    <tr>\n",
       "      <th>3.0</th>\n",
       "      <td>1</td>\n",
       "    </tr>\n",
       "    <tr>\n",
       "      <th>6.0</th>\n",
       "      <td>1</td>\n",
       "    </tr>\n",
       "    <tr>\n",
       "      <th>6.0</th>\n",
       "      <td>1</td>\n",
       "    </tr>\n",
       "    <tr>\n",
       "      <th>8.0</th>\n",
       "      <td>1</td>\n",
       "    </tr>\n",
       "    <tr>\n",
       "      <th>...</th>\n",
       "      <td>...</td>\n",
       "    </tr>\n",
       "    <tr>\n",
       "      <th>98.0</th>\n",
       "      <td>1</td>\n",
       "    </tr>\n",
       "    <tr>\n",
       "      <th>98.0</th>\n",
       "      <td>1</td>\n",
       "    </tr>\n",
       "    <tr>\n",
       "      <th>101.0</th>\n",
       "      <td>1</td>\n",
       "    </tr>\n",
       "    <tr>\n",
       "      <th>101.0</th>\n",
       "      <td>1</td>\n",
       "    </tr>\n",
       "    <tr>\n",
       "      <th>101.0</th>\n",
       "      <td>1</td>\n",
       "    </tr>\n",
       "  </tbody>\n",
       "</table>\n",
       "<p>240 rows × 1 columns</p>\n",
       "</div>"
      ],
      "text/plain": [
       "       Unnamed\n",
       "3.0          1\n",
       "3.0          1\n",
       "6.0          1\n",
       "6.0          1\n",
       "8.0          1\n",
       "...        ...\n",
       "98.0         1\n",
       "98.0         1\n",
       "101.0        1\n",
       "101.0        1\n",
       "101.0        1\n",
       "\n",
       "[240 rows x 1 columns]"
      ]
     },
     "execution_count": 13,
     "metadata": {},
     "output_type": "execute_result"
    }
   ],
   "source": [
    "convert_to_lifespan_readable(Dict_Excel_Sheets.get('MCUDN. RU486'))"
   ]
  },
  {
   "cell_type": "code",
   "execution_count": 29,
   "metadata": {},
   "outputs": [
    {
     "data": {
      "text/html": [
       "<div>\n",
       "<style scoped>\n",
       "    .dataframe tbody tr th:only-of-type {\n",
       "        vertical-align: middle;\n",
       "    }\n",
       "\n",
       "    .dataframe tbody tr th {\n",
       "        vertical-align: top;\n",
       "    }\n",
       "\n",
       "    .dataframe thead th {\n",
       "        text-align: right;\n",
       "    }\n",
       "</style>\n",
       "<table border=\"1\" class=\"dataframe\">\n",
       "  <thead>\n",
       "    <tr style=\"text-align: right;\">\n",
       "      <th></th>\n",
       "      <th>LacZ RNAi. Norm Food</th>\n",
       "      <th>LacZ RNAi. RU486</th>\n",
       "      <th>MCUDN. Norm Food</th>\n",
       "      <th>MCUDN. RU486</th>\n",
       "    </tr>\n",
       "  </thead>\n",
       "  <tbody>\n",
       "    <tr>\n",
       "      <th>3.0</th>\n",
       "      <td>1.0</td>\n",
       "      <td>NaN</td>\n",
       "      <td>NaN</td>\n",
       "      <td>NaN</td>\n",
       "    </tr>\n",
       "    <tr>\n",
       "      <th>3.0</th>\n",
       "      <td>1.0</td>\n",
       "      <td>NaN</td>\n",
       "      <td>NaN</td>\n",
       "      <td>NaN</td>\n",
       "    </tr>\n",
       "    <tr>\n",
       "      <th>3.0</th>\n",
       "      <td>1.0</td>\n",
       "      <td>NaN</td>\n",
       "      <td>NaN</td>\n",
       "      <td>NaN</td>\n",
       "    </tr>\n",
       "    <tr>\n",
       "      <th>3.0</th>\n",
       "      <td>1.0</td>\n",
       "      <td>NaN</td>\n",
       "      <td>NaN</td>\n",
       "      <td>NaN</td>\n",
       "    </tr>\n",
       "    <tr>\n",
       "      <th>6.0</th>\n",
       "      <td>1.0</td>\n",
       "      <td>NaN</td>\n",
       "      <td>NaN</td>\n",
       "      <td>NaN</td>\n",
       "    </tr>\n",
       "    <tr>\n",
       "      <th>...</th>\n",
       "      <td>...</td>\n",
       "      <td>...</td>\n",
       "      <td>...</td>\n",
       "      <td>...</td>\n",
       "    </tr>\n",
       "    <tr>\n",
       "      <th>98.0</th>\n",
       "      <td>NaN</td>\n",
       "      <td>NaN</td>\n",
       "      <td>NaN</td>\n",
       "      <td>1.0</td>\n",
       "    </tr>\n",
       "    <tr>\n",
       "      <th>98.0</th>\n",
       "      <td>NaN</td>\n",
       "      <td>NaN</td>\n",
       "      <td>NaN</td>\n",
       "      <td>1.0</td>\n",
       "    </tr>\n",
       "    <tr>\n",
       "      <th>101.0</th>\n",
       "      <td>NaN</td>\n",
       "      <td>NaN</td>\n",
       "      <td>NaN</td>\n",
       "      <td>1.0</td>\n",
       "    </tr>\n",
       "    <tr>\n",
       "      <th>101.0</th>\n",
       "      <td>NaN</td>\n",
       "      <td>NaN</td>\n",
       "      <td>NaN</td>\n",
       "      <td>1.0</td>\n",
       "    </tr>\n",
       "    <tr>\n",
       "      <th>101.0</th>\n",
       "      <td>NaN</td>\n",
       "      <td>NaN</td>\n",
       "      <td>NaN</td>\n",
       "      <td>1.0</td>\n",
       "    </tr>\n",
       "  </tbody>\n",
       "</table>\n",
       "<p>850 rows × 4 columns</p>\n",
       "</div>"
      ],
      "text/plain": [
       "       LacZ RNAi. Norm Food  LacZ RNAi. RU486  MCUDN. Norm Food  MCUDN. RU486\n",
       "3.0                     1.0               NaN               NaN           NaN\n",
       "3.0                     1.0               NaN               NaN           NaN\n",
       "3.0                     1.0               NaN               NaN           NaN\n",
       "3.0                     1.0               NaN               NaN           NaN\n",
       "6.0                     1.0               NaN               NaN           NaN\n",
       "...                     ...               ...               ...           ...\n",
       "98.0                    NaN               NaN               NaN           1.0\n",
       "98.0                    NaN               NaN               NaN           1.0\n",
       "101.0                   NaN               NaN               NaN           1.0\n",
       "101.0                   NaN               NaN               NaN           1.0\n",
       "101.0                   NaN               NaN               NaN           1.0\n",
       "\n",
       "[850 rows x 4 columns]"
      ]
     },
     "execution_count": 29,
     "metadata": {},
     "output_type": "execute_result"
    }
   ],
   "source": [
    "DF_Lifespan"
   ]
  },
  {
   "cell_type": "code",
   "execution_count": null,
   "metadata": {},
   "outputs": [],
   "source": []
  }
 ],
 "metadata": {
  "kernelspec": {
   "display_name": "Python 3",
   "language": "python",
   "name": "python3"
  },
  "language_info": {
   "codemirror_mode": {
    "name": "ipython",
    "version": 3
   },
   "file_extension": ".py",
   "mimetype": "text/x-python",
   "name": "python",
   "nbconvert_exporter": "python",
   "pygments_lexer": "ipython3",
   "version": "3.7.5"
  }
 },
 "nbformat": 4,
 "nbformat_minor": 4
}
