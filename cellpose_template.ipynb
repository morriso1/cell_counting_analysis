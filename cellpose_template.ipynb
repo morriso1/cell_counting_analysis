{
 "cells": [
  {
   "cell_type": "markdown",
   "metadata": {
    "colab_type": "text",
    "id": "XhVh2Jlj1c7v"
   },
   "source": [
    "### Setting up cellpose on GPU"
   ]
  },
  {
   "cell_type": "code",
   "execution_count": null,
   "metadata": {
    "colab": {
     "base_uri": "https://localhost:8080/",
     "height": 425
    },
    "colab_type": "code",
    "executionInfo": {
     "elapsed": 5415,
     "status": "ok",
     "timestamp": 1592327070464,
     "user": {
      "displayName": "Otto Morris",
      "photoUrl": "",
      "userId": "15200147733553843626"
     },
     "user_tz": 420
    },
    "id": "BOshWrLN1RDV",
    "outputId": "f55eea86-7143-4829-f753-12fd5d39fc30"
   },
   "outputs": [],
   "source": [
    "# !nvcc --version\n",
    "# !nvidia-smi"
   ]
  },
  {
   "cell_type": "markdown",
   "metadata": {
    "colab_type": "text",
    "id": "AE5Jeq4s13gP"
   },
   "source": [
    "Install cellpose, then uninstall the CPU version, then install the GPU version\n",
    "\n",
    "(make sure cu101 is the right CUDA version, e.g. mine is 10.1 so cu101 works, 10.0 would be cu100)"
   ]
  },
  {
   "cell_type": "code",
   "execution_count": null,
   "metadata": {
    "colab": {
     "base_uri": "https://localhost:8080/",
     "height": 901
    },
    "colab_type": "code",
    "executionInfo": {
     "elapsed": 118921,
     "status": "ok",
     "timestamp": 1592327192333,
     "user": {
      "displayName": "Otto Morris",
      "photoUrl": "",
      "userId": "15200147733553843626"
     },
     "user_tz": 420
    },
    "id": "xAKssBqJ1S-j",
    "outputId": "71980fd3-cfc0-4295-9ad1-12d6134c25cf"
   },
   "outputs": [],
   "source": [
    "# !pip install cellpose\n",
    "# !pip uninstall mxnet-mkl -y\n",
    "# !pip install mxnet-cu101"
   ]
  },
  {
   "cell_type": "code",
   "execution_count": null,
   "metadata": {
    "colab": {
     "base_uri": "https://localhost:8080/",
     "height": 34
    },
    "colab_type": "code",
    "executionInfo": {
     "elapsed": 724,
     "status": "ok",
     "timestamp": 1592331265090,
     "user": {
      "displayName": "Otto Morris",
      "photoUrl": "",
      "userId": "15200147733553843626"
     },
     "user_tz": 420
    },
    "id": "fISjmq-42gjn",
    "outputId": "d3fe9c34-bdef-4098-91cc-08288dbbbc83"
   },
   "outputs": [],
   "source": [
    "# import mxnet as mx\n",
    "# from cellpose import utils\n",
    "# from cellpose import models\n",
    "\n",
    "# use_GPU = utils.use_gpu()\n",
    "# print(\"GPU activated? %d\" % use_GPU)"
   ]
  },
  {
   "cell_type": "markdown",
   "metadata": {},
   "source": [
    "### Analysis using cellpose"
   ]
  },
  {
   "cell_type": "code",
   "execution_count": null,
   "metadata": {
    "colab": {},
    "colab_type": "code",
    "executionInfo": {
     "elapsed": 1317,
     "status": "ok",
     "timestamp": 1592327750713,
     "user": {
      "displayName": "Otto Morris",
      "photoUrl": "",
      "userId": "15200147733553843626"
     },
     "user_tz": 420
    },
    "id": "aHvIIpkW2vOd"
   },
   "outputs": [],
   "source": [
    "# sys.path.append(\"/content/drive/My Drive/Learning Python_copy/Code\")\n",
    "# path_to_image_folder = \"/content/drive/My Drive/Colab Notebooks/Current_Imaging_Analysis_Colab/Laconic_III_esgts_Young_vs_Old_E1F1/BacSub50/Analysis/Posterior/Trying_cellpose\"\n",
    "# os.chdir(path_to_image_folder)"
   ]
  },
  {
   "cell_type": "code",
   "execution_count": null,
   "metadata": {},
   "outputs": [],
   "source": [
    "# C0_imgs = create_img_dict_from_folder(load_pattern=\"./C0/*.tif\")\n",
    "# C1_imgs = create_img_dict_from_folder(load_pattern=\"./C1/*.tif\")"
   ]
  },
  {
   "cell_type": "code",
   "execution_count": null,
   "metadata": {
    "colab": {
     "base_uri": "https://localhost:8080/",
     "height": 374
    },
    "colab_type": "code",
    "executionInfo": {
     "elapsed": 36710,
     "status": "ok",
     "timestamp": 1592328418574,
     "user": {
      "displayName": "Otto Morris",
      "photoUrl": "",
      "userId": "15200147733553843626"
     },
     "user_tz": 420
    },
    "id": "y9aK0wwTKLjQ",
    "outputId": "222a29b6-901b-43ec-ad8d-c356ce1b21c4"
   },
   "outputs": [],
   "source": [
    "# model = models.Cellpose(gpu=use_GPU, model_type=\"cyto\",)"
   ]
  },
  {
   "cell_type": "code",
   "execution_count": null,
   "metadata": {
    "colab": {
     "base_uri": "https://localhost:8080/",
     "height": 51
    },
    "colab_type": "code",
    "executionInfo": {
     "elapsed": 38271,
     "status": "ok",
     "timestamp": 1592332172596,
     "user": {
      "displayName": "Otto Morris",
      "photoUrl": "",
      "userId": "15200147733553843626"
     },
     "user_tz": 420
    },
    "id": "1D1qklKEKuVK",
    "outputId": "13fb260e-35c7-402f-bfd6-c7cafadb4cba"
   },
   "outputs": [],
   "source": [
    "# masks, flows, styles, diams = model.eval(\n",
    "#     list(C1_imgs.values()),\n",
    "#     diameter=35,\n",
    "#     channels=[[0, 0]] * len(C1_imgs.keys()),\n",
    "#     cellprob_threshold=2,\n",
    "# )"
   ]
  },
  {
   "cell_type": "code",
   "execution_count": null,
   "metadata": {
    "colab": {
     "base_uri": "https://localhost:8080/",
     "height": 1000,
     "output_embedded_package_id": "1Wts5l-oib-pF8mS7jZvKXP-flhLex7_s"
    },
    "colab_type": "code",
    "executionInfo": {
     "elapsed": 14974,
     "status": "ok",
     "timestamp": 1592332193528,
     "user": {
      "displayName": "Otto Morris",
      "photoUrl": "",
      "userId": "15200147733553843626"
     },
     "user_tz": 420
    },
    "id": "Yf8HFKY5Lhwg",
    "outputId": "ff5af18f-6b5a-45b0-adb0-1f685e2cb3d1"
   },
   "outputs": [],
   "source": [
    "# from cellpose import plot\n",
    "\n",
    "# nimg = len(list(C1_imgs.values()))\n",
    "# for idx in range(nimg):\n",
    "#     maski = masks[idx]\n",
    "#     flowi = flows[idx][0]\n",
    "\n",
    "#     fig = plt.figure(figsize=(18, 12))\n",
    "#     plot.show_segmentation(fig, list(C1_imgs.values())[idx], maski, flowi, [[0]])\n",
    "#     plt.tight_layout()\n",
    "#     plt.show()"
   ]
  },
  {
   "cell_type": "code",
   "execution_count": null,
   "metadata": {
    "colab": {},
    "colab_type": "code",
    "executionInfo": {
     "elapsed": 1268,
     "status": "ok",
     "timestamp": 1592332219057,
     "user": {
      "displayName": "Otto Morris",
      "photoUrl": "",
      "userId": "15200147733553843626"
     },
     "user_tz": 420
    },
    "id": "XoBwIuCaNUyN"
   },
   "outputs": [],
   "source": [
    "# C1_imgs_lab = dict(zip(list(C1_imgs.keys()), masks))"
   ]
  },
  {
   "cell_type": "code",
   "execution_count": null,
   "metadata": {
    "colab": {
     "base_uri": "https://localhost:8080/",
     "height": 374
    },
    "colab_type": "code",
    "executionInfo": {
     "elapsed": 12806,
     "status": "ok",
     "timestamp": 1592332240655,
     "user": {
      "displayName": "Otto Morris",
      "photoUrl": "",
      "userId": "15200147733553843626"
     },
     "user_tz": 420
    },
    "id": "nWgGxCcIUo5P",
    "outputId": "d9f0a56f-6354-4da2-9415-0282275a6750"
   },
   "outputs": [],
   "source": [
    "# save_dict_binary_masks(C1_imgs_lab, \"C1_label_imgs\", method_img_type=img_as_ubyte)"
   ]
  },
  {
   "cell_type": "markdown",
   "metadata": {},
   "source": [
    "### Per cell analysis"
   ]
  },
  {
   "cell_type": "code",
   "execution_count": 3,
   "metadata": {
    "colab": {
     "base_uri": "https://localhost:8080/",
     "height": 34
    },
    "colab_type": "code",
    "executionInfo": {
     "elapsed": 724,
     "status": "ok",
     "timestamp": 1592331265090,
     "user": {
      "displayName": "Otto Morris",
      "photoUrl": "",
      "userId": "15200147733553843626"
     },
     "user_tz": 420
    },
    "id": "fISjmq-42gjn",
    "outputId": "d3fe9c34-bdef-4098-91cc-08288dbbbc83"
   },
   "outputs": [],
   "source": [
    "import numpy as np\n",
    "import time, os, sys\n",
    "from skimage import io, img_as_ubyte\n",
    "import matplotlib.pyplot as plt\n",
    "import napari\n",
    "import glob\n",
    "import pandas as pd\n",
    "\n",
    "%matplotlib inline\n",
    "%load_ext autoreload\n",
    "%autoreload 2\n",
    "\n",
    "# Otto's python modules\n",
    "from cell_counting_analysis import (\n",
    "    create_img_dict_from_folder,\n",
    "    save_dict_binary_masks,\n",
    "    measure_region_props_to_tidy_df,\n",
    "    create_labelled_img_dict_from_folder,\n",
    "    num_div_denom_measure_region_props_to_tidy_df,\n",
    ")\n",
    "import analysing_imaging_data as aid\n",
    "import custom_plotting as cp"
   ]
  },
  {
   "cell_type": "code",
   "execution_count": 4,
   "metadata": {
    "colab": {},
    "colab_type": "code",
    "executionInfo": {
     "elapsed": 1232,
     "status": "ok",
     "timestamp": 1592328288376,
     "user": {
      "displayName": "Otto Morris",
      "photoUrl": "",
      "userId": "15200147733553843626"
     },
     "user_tz": 420
    },
    "id": "KtVMTNKeI9KE"
   },
   "outputs": [],
   "source": [
    "C0_imgs = create_img_dict_from_folder(load_pattern=\"./C0/*.tif\")\n",
    "C1_imgs = create_img_dict_from_folder(load_pattern=\"./C1/*.tif\")\n",
    "\n",
    "\n",
    "# generated using cellpose cytoplasm model\n",
    "C1_imgs_lab = create_labelled_img_dict_from_folder(load_pattern=\"C1_label_imgs/*.tiff\")"
   ]
  },
  {
   "cell_type": "code",
   "execution_count": 6,
   "metadata": {},
   "outputs": [],
   "source": [
    "%gui qt5"
   ]
  },
  {
   "cell_type": "code",
   "execution_count": 8,
   "metadata": {},
   "outputs": [],
   "source": [
    "import napari\n",
    "\n",
    "view = napari.Viewer()"
   ]
  },
  {
   "cell_type": "code",
   "execution_count": 9,
   "metadata": {},
   "outputs": [
    {
     "data": {
      "text/plain": [
       "<Labels layer 'o1g1_label' at 0x7ffe6443b350>"
      ]
     },
     "execution_count": 9,
     "metadata": {},
     "output_type": "execute_result"
    }
   ],
   "source": [
    "view.layers.select_all()\n",
    "view.layers.remove_selected()\n",
    "key = \"o1g1\"\n",
    "view.add_image(C0_imgs.get(key), name=key + \"_C0\", colormap=\"blue\")\n",
    "view.add_image(C1_imgs.get(key), name=key + \"_C1\", colormap=\"yellow\")\n",
    "view.add_labels(C1_imgs_lab[key], name=key + \"_label\")"
   ]
  },
  {
   "cell_type": "code",
   "execution_count": 202,
   "metadata": {},
   "outputs": [],
   "source": [
    "df = num_div_denom_measure_region_props_to_tidy_df(\n",
    "    num_img_dict=C0_imgs,\n",
    "    denom_img_dict=C1_imgs,\n",
    "    label_imgs=C1_imgs_lab,\n",
    "    sample_id_categories=[\"a1\", \"o1\"],\n",
    ")"
   ]
  },
  {
   "cell_type": "code",
   "execution_count": 201,
   "metadata": {
    "colab": {
     "base_uri": "https://localhost:8080/",
     "height": 187
    },
    "colab_type": "code",
    "executionInfo": {
     "elapsed": 1445,
     "status": "ok",
     "timestamp": 1592332249468,
     "user": {
      "displayName": "Otto Morris",
      "photoUrl": "",
      "userId": "15200147733553843626"
     },
     "user_tz": 420
    },
    "id": "v13suw0_Vyhf",
    "outputId": "66a55e63-bce5-4acc-b06e-f986ba0aeb4d"
   },
   "outputs": [
    {
     "data": {
      "image/png": "[encoded data removed]",
      "text/plain": [
       "<Figure size 108x180 with 1 Axes>"
      ]
     },
     "metadata": {},
     "output_type": "display_data"
    }
   ],
   "source": [
    "mypal = cp.define_pallette_tidy(df[\"sample_id\"])\n",
    "cp.tidy_create_strip_box_plot(\n",
    "    x=\"sample_id\",\n",
    "    y=\"mean_intensity_num_div_denom\",\n",
    "    palette=mypal,\n",
    "    x_figSize=cp.determine_fig_width_from_palette(mypal),\n",
    "    data=df.query(\"mean_intensity_num_div_denom < 1.4\"),\n",
    "    y_axis_start=0.9,\n",
    "    y_axis_limit=1.4,\n",
    "    y_label=cp.identify_y_axis_label(aid.exp_analysis_name()),\n",
    ")"
   ]
  },
  {
   "cell_type": "markdown",
   "metadata": {},
   "source": [
    "### Performing statistical tests on per cell data"
   ]
  },
  {
   "cell_type": "code",
   "execution_count": 12,
   "metadata": {
    "colab": {
     "base_uri": "https://localhost:8080/",
     "height": 255
    },
    "colab_type": "code",
    "executionInfo": {
     "elapsed": 1425,
     "status": "ok",
     "timestamp": 1592332740271,
     "user": {
      "displayName": "Otto Morris",
      "photoUrl": "",
      "userId": "15200147733553843626"
     },
     "user_tz": 420
    },
    "id": "DUzHb9w2ahDR",
    "outputId": "847bf5ad-8e25-4382-e9b9-ed8a9cd6c09d"
   },
   "outputs": [],
   "source": [
    "from scipy import stats\n",
    "import scikit_posthocs as sp\n",
    "from statsmodels import formula\n",
    "from statsmodels import api\n",
    "import custom_stats"
   ]
  },
  {
   "cell_type": "code",
   "execution_count": 22,
   "metadata": {},
   "outputs": [
    {
     "data": {
      "text/plain": [
       "KruskalResult(statistic=66.65101926680472, pvalue=3.2408863581511514e-16)"
      ]
     },
     "execution_count": 22,
     "metadata": {},
     "output_type": "execute_result"
    }
   ],
   "source": [
    "custom_stats.kruskal_scipy_stats_tidy_df_wrapper(\n",
    "    tidy_df=df, indep_var=\"sample_id\", dep_var=\"mean_intensity_num_div_denom\"\n",
    ")"
   ]
  },
  {
   "cell_type": "code",
   "execution_count": 20,
   "metadata": {},
   "outputs": [
    {
     "data": {
      "text/html": [
       "<div>\n",
       "<style scoped>\n",
       "    .dataframe tbody tr th:only-of-type {\n",
       "        vertical-align: middle;\n",
       "    }\n",
       "\n",
       "    .dataframe tbody tr th {\n",
       "        vertical-align: top;\n",
       "    }\n",
       "\n",
       "    .dataframe thead th {\n",
       "        text-align: right;\n",
       "    }\n",
       "</style>\n",
       "<table border=\"1\" class=\"dataframe\">\n",
       "  <thead>\n",
       "    <tr style=\"text-align: right;\">\n",
       "      <th></th>\n",
       "      <th>a1</th>\n",
       "      <th>o1</th>\n",
       "    </tr>\n",
       "  </thead>\n",
       "  <tbody>\n",
       "    <tr>\n",
       "      <th>a1</th>\n",
       "      <td>-1.000000e+00</td>\n",
       "      <td>3.240886e-16</td>\n",
       "    </tr>\n",
       "    <tr>\n",
       "      <th>o1</th>\n",
       "      <td>3.240886e-16</td>\n",
       "      <td>-1.000000e+00</td>\n",
       "    </tr>\n",
       "  </tbody>\n",
       "</table>\n",
       "</div>"
      ],
      "text/plain": [
       "              a1            o1\n",
       "a1 -1.000000e+00  3.240886e-16\n",
       "o1  3.240886e-16 -1.000000e+00"
      ]
     },
     "execution_count": 20,
     "metadata": {},
     "output_type": "execute_result"
    }
   ],
   "source": [
    "sp.posthoc_dunn(\n",
    "    df,\n",
    "    val_col=\"mean_intensity_num_div_denom\",\n",
    "    group_col=\"sample_id\",\n",
    "    p_adjust=\"bonferroni\",\n",
    ")"
   ]
  },
  {
   "cell_type": "markdown",
   "metadata": {},
   "source": [
    "### Per gut analysis"
   ]
  },
  {
   "cell_type": "code",
   "execution_count": 204,
   "metadata": {},
   "outputs": [],
   "source": [
    "foo = aid.grouped_tidy_data_summary_stats(df, categories=df[\"sample_id\"].unique())"
   ]
  },
  {
   "cell_type": "code",
   "execution_count": 205,
   "metadata": {},
   "outputs": [
    {
     "data": {
      "image/png": "[encoded data removed]",
      "text/plain": [
       "<Figure size 180x180 with 1 Axes>"
      ]
     },
     "metadata": {},
     "output_type": "display_data"
    }
   ],
   "source": [
    "cp.tidy_create_swarm_box_plot(\n",
    "    x=\"sample_id\",\n",
    "    y=\"mean_intensity_num_div_denom\",\n",
    "    data=foo.query('summary_stat == \"mean\"'),\n",
    "    y_axis_start=1,\n",
    ")"
   ]
  },
  {
   "cell_type": "markdown",
   "metadata": {},
   "source": [
    "### Perform statistical tests using per gut data"
   ]
  },
  {
   "cell_type": "code",
   "execution_count": 220,
   "metadata": {},
   "outputs": [
    {
     "data": {
      "text/html": [
       "<table class=\"simpletable\">\n",
       "<caption>OLS Regression Results</caption>\n",
       "<tr>\n",
       "  <th>Dep. Variable:</th>    <td>mean_intensity_num_div_denom</td> <th>  R-squared:         </th> <td>   0.511</td>\n",
       "</tr>\n",
       "<tr>\n",
       "  <th>Model:</th>                         <td>OLS</td>             <th>  Adj. R-squared:    </th> <td>   0.450</td>\n",
       "</tr>\n",
       "<tr>\n",
       "  <th>Method:</th>                   <td>Least Squares</td>        <th>  F-statistic:       </th> <td>   8.370</td>\n",
       "</tr>\n",
       "<tr>\n",
       "  <th>Date:</th>                   <td>Wed, 17 Jun 2020</td>       <th>  Prob (F-statistic):</th>  <td>0.0201</td> \n",
       "</tr>\n",
       "<tr>\n",
       "  <th>Time:</th>                       <td>14:29:15</td>           <th>  Log-Likelihood:    </th> <td>  16.961</td>\n",
       "</tr>\n",
       "<tr>\n",
       "  <th>No. Observations:</th>            <td>    10</td>            <th>  AIC:               </th> <td>  -29.92</td>\n",
       "</tr>\n",
       "<tr>\n",
       "  <th>Df Residuals:</th>                <td>     8</td>            <th>  BIC:               </th> <td>  -29.32</td>\n",
       "</tr>\n",
       "<tr>\n",
       "  <th>Df Model:</th>                    <td>     1</td>            <th>                     </th>     <td> </td>   \n",
       "</tr>\n",
       "<tr>\n",
       "  <th>Covariance Type:</th>            <td>nonrobust</td>          <th>                     </th>     <td> </td>   \n",
       "</tr>\n",
       "</table>\n",
       "<table class=\"simpletable\">\n",
       "<tr>\n",
       "           <td></td>             <th>coef</th>     <th>std err</th>      <th>t</th>      <th>P>|t|</th>  <th>[0.025</th>    <th>0.975]</th>  \n",
       "</tr>\n",
       "<tr>\n",
       "  <th>Intercept</th>          <td>    1.1074</td> <td>    0.022</td> <td>   49.907</td> <td> 0.000</td> <td>    1.056</td> <td>    1.159</td>\n",
       "</tr>\n",
       "<tr>\n",
       "  <th>C(sample_id)[T.o1]</th> <td>    0.0908</td> <td>    0.031</td> <td>    2.893</td> <td> 0.020</td> <td>    0.018</td> <td>    0.163</td>\n",
       "</tr>\n",
       "</table>\n",
       "<table class=\"simpletable\">\n",
       "<tr>\n",
       "  <th>Omnibus:</th>       <td> 1.139</td> <th>  Durbin-Watson:     </th> <td>   1.651</td>\n",
       "</tr>\n",
       "<tr>\n",
       "  <th>Prob(Omnibus):</th> <td> 0.566</td> <th>  Jarque-Bera (JB):  </th> <td>   0.867</td>\n",
       "</tr>\n",
       "<tr>\n",
       "  <th>Skew:</th>          <td>-0.516</td> <th>  Prob(JB):          </th> <td>   0.648</td>\n",
       "</tr>\n",
       "<tr>\n",
       "  <th>Kurtosis:</th>      <td> 1.992</td> <th>  Cond. No.          </th> <td>    2.62</td>\n",
       "</tr>\n",
       "</table><br/><br/>Warnings:<br/>[1] Standard Errors assume that the covariance matrix of the errors is correctly specified."
      ],
      "text/plain": [
       "<class 'statsmodels.iolib.summary.Summary'>\n",
       "\"\"\"\n",
       "                                 OLS Regression Results                                 \n",
       "========================================================================================\n",
       "Dep. Variable:     mean_intensity_num_div_denom   R-squared:                       0.511\n",
       "Model:                                      OLS   Adj. R-squared:                  0.450\n",
       "Method:                           Least Squares   F-statistic:                     8.370\n",
       "Date:                          Wed, 17 Jun 2020   Prob (F-statistic):             0.0201\n",
       "Time:                                  14:29:15   Log-Likelihood:                 16.961\n",
       "No. Observations:                            10   AIC:                            -29.92\n",
       "Df Residuals:                                 8   BIC:                            -29.32\n",
       "Df Model:                                     1                                         \n",
       "Covariance Type:                      nonrobust                                         \n",
       "======================================================================================\n",
       "                         coef    std err          t      P>|t|      [0.025      0.975]\n",
       "--------------------------------------------------------------------------------------\n",
       "Intercept              1.1074      0.022     49.907      0.000       1.056       1.159\n",
       "C(sample_id)[T.o1]     0.0908      0.031      2.893      0.020       0.018       0.163\n",
       "==============================================================================\n",
       "Omnibus:                        1.139   Durbin-Watson:                   1.651\n",
       "Prob(Omnibus):                  0.566   Jarque-Bera (JB):                0.867\n",
       "Skew:                          -0.516   Prob(JB):                        0.648\n",
       "Kurtosis:                       1.992   Cond. No.                         2.62\n",
       "==============================================================================\n",
       "\n",
       "Warnings:\n",
       "[1] Standard Errors assume that the covariance matrix of the errors is correctly specified.\n",
       "\"\"\""
      ]
     },
     "execution_count": 220,
     "metadata": {},
     "output_type": "execute_result"
    }
   ],
   "source": [
    "lm = (\n",
    "    formula.api.ols(\n",
    "        formula=\"mean_intensity_num_div_denom ~ C(sample_id)\",\n",
    "        data=foo.query('summary_stat == \"mean\"'),\n",
    "    )\n",
    "    .fit()\n",
    ")\n",
    "lm.summary()"
   ]
  },
  {
   "cell_type": "code",
   "execution_count": 227,
   "metadata": {},
   "outputs": [
    {
     "data": {
      "text/plain": [
       "Ttest_indResult(statistic=-2.8930373885204235, pvalue=0.02010525313059703)"
      ]
     },
     "execution_count": 227,
     "metadata": {},
     "output_type": "execute_result"
    }
   ],
   "source": [
    "stats.ttest_ind(\n",
    "    foo.query('summary_stat == \"mean\" & sample_id == \"a1\"')['mean_intensity_num_div_denom'].values,\n",
    "    foo.query('summary_stat == \"mean\" & sample_id == \"o1\"')['mean_intensity_num_div_denom'].values,\n",
    ")"
   ]
  },
  {
   "cell_type": "code",
   "execution_count": null,
   "metadata": {},
   "outputs": [],
   "source": []
  }
 ],
 "metadata": {
  "accelerator": "GPU",
  "colab": {
   "authorship_tag": "ABX9TyOgkTz2Q8JSN60Miz/AV+uD",
   "collapsed_sections": [],
   "mount_file_id": "1EkJXZdj_PZNKTUWy3jxH4bKNT4L34GXk",
   "name": "Trying_cellpose.ipynb",
   "provenance": []
  },
  "kernelspec": {
   "display_name": "Python 3",
   "language": "python",
   "name": "python3"
  },
  "language_info": {
   "codemirror_mode": {
    "name": "ipython",
    "version": 3
   },
   "file_extension": ".py",
   "mimetype": "text/x-python",
   "name": "python",
   "nbconvert_exporter": "python",
   "pygments_lexer": "ipython3",
   "version": "3.7.7"
  }
 },
 "nbformat": 4,
 "nbformat_minor": 4
}
