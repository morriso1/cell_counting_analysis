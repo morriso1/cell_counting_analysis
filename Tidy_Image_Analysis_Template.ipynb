{
 "cells": [
  {
   "cell_type": "code",
   "execution_count": null,
   "metadata": {},
   "outputs": [],
   "source": [
    "import analysing_imaging_data as aid\n",
    "import custom_plotting_v1 as cp\n",
    "import scipy.stats as ss\n",
    "import scikit_posthocs as sp\n",
    "import statsmodels.formula.api as smf\n",
    "import statsmodels.api as sa"
   ]
  },
  {
   "cell_type": "code",
   "execution_count": null,
   "metadata": {},
   "outputs": [],
   "source": [
    "tidy_df_C1 = aid.read_csv_folder_into_tidy_df(\"./Output_C1/[a-z]*.csv\")\n",
    "tidy_df_C0 = aid.read_csv_folder_into_tidy_df(\"./Output_C0/[a-z]*.csv\")\n",
    "\n",
    "tidy_df_C0divC1 = (\n",
    "    tidy_df_C0.set_index([\"Sample_Gut_id\", \"Sample_id\", \"Gut_id\"])\n",
    "    .div(tidy_df_C1.set_index([\"Sample_Gut_id\", \"Sample_id\", \"Gut_id\"]))\n",
    "    .reset_index()\n",
    ")"
   ]
  },
  {
   "cell_type": "code",
   "execution_count": null,
   "metadata": {},
   "outputs": [],
   "source": [
    "my_pal = cp.define_pallette_tidy(series_id=tidy_df_C0divC1.Sample_id)"
   ]
  },
  {
   "cell_type": "code",
   "execution_count": null,
   "metadata": {},
   "outputs": [],
   "source": [
    "cp.tidy_create_strip_box_plot(\n",
    "    x_figSize=cp.determine_fig_width_from_palette(my_pal),\n",
    "    y_axis_limit=None,\n",
    "    save_fig=False,\n",
    "    data=tidy_df_C0divC1,\n",
    "    y_label=cp.identify_y_axis_label(aid.exp_analysis_name()),\n",
    "    x=\"Sample_id\",\n",
    "    y=\"Mean\",\n",
    "    palette=my_pal,\n",
    ")"
   ]
  },
  {
   "cell_type": "code",
   "execution_count": null,
   "metadata": {},
   "outputs": [],
   "source": [
    "data = [\n",
    "    tidy_df_C0divC1.loc[ids, \"Mean\"].values\n",
    "    for ids in tidy_df_C0divC1.groupby(\"Sample_id\").groups.values()\n",
    "]\n",
    "H, p = ss.kruskal(*data)\n",
    "f\"P.Value is {p}\""
   ]
  },
  {
   "cell_type": "code",
   "execution_count": null,
   "metadata": {},
   "outputs": [],
   "source": [
    "sp.posthoc_dunn(\n",
    "    tidy_df_C0divC1, val_col=\"Mean\", group_col=\"Sample_id\", p_adjust=\"bonferroni\"\n",
    ").round(5)"
   ]
  },
  {
   "cell_type": "code",
   "execution_count": null,
   "metadata": {},
   "outputs": [],
   "source": [
    "tidy_df_C0divC1_grouped_mean = tidy_df_C0divC1.groupby(\n",
    "    [\"Sample_Gut_id\", \"Sample_id\", \"Gut_id\"], as_index=False\n",
    ").mean()\n",
    "\n",
    "tidy_df_C0divC1_grouped_median = tidy_df_C0divC1.groupby(\n",
    "    [\"Sample_Gut_id\", \"Sample_id\", \"Gut_id\"], as_index=False\n",
    ").median()"
   ]
  },
  {
   "cell_type": "code",
   "execution_count": null,
   "metadata": {},
   "outputs": [],
   "source": [
    "cp.tidy_create_swarm_box_plot(\n",
    "    ExpName=aid.exp_analysis_name() + \"mean\",\n",
    "    save_fig=False,\n",
    "    data=tidy_df_C0divC1_grouped_mean,\n",
    "    y_axis_limit=None,\n",
    "    y_label=cp.identify_y_axis_label(aid.exp_analysis_name()),\n",
    "    x_figSize=cp.determine_fig_width_from_palette(my_pal),\n",
    "    x=\"Sample_id\",\n",
    "    y=\"Mean\",\n",
    "    palette=my_pal,\n",
    ")"
   ]
  },
  {
   "cell_type": "code",
   "execution_count": null,
   "metadata": {},
   "outputs": [],
   "source": [
    "lm_mean_data = smf.ols(formula=\"Mean ~ C(Sample_id)\", data=tidy_df_C0divC1_grouped_mean).fit()\n",
    "anova_mean_data = sa.stats.anova_lm(lm_mean_data)\n",
    "anova_mean_data"
   ]
  },
  {
   "cell_type": "code",
   "execution_count": null,
   "metadata": {},
   "outputs": [],
   "source": [
    "sp.posthoc_ttest(\n",
    "    tidy_df_C0divC1_grouped_mean,\n",
    "    val_col=\"Mean\",\n",
    "    group_col=\"Sample_id\",\n",
    "    pool_sd=True,\n",
    "    p_adjust=\"holm-sidak\",\n",
    ")"
   ]
  },
  {
   "cell_type": "code",
   "execution_count": null,
   "metadata": {},
   "outputs": [],
   "source": [
    "cp.tidy_create_swarm_box_plot(\n",
    "    ExpName=aid.exp_analysis_name() + \"mean\",\n",
    "    save_fig=False,\n",
    "    data=tidy_df_C0divC1_grouped_median,\n",
    "    y_axis_limit=None,\n",
    "    y_label=cp.identify_y_axis_label(aid.exp_analysis_name()),\n",
    "    x_figSize=cp.determine_fig_width_from_palette(my_pal),\n",
    "    x=\"Sample_id\",\n",
    "    y=\"Mean\",\n",
    "    palette=my_pal,\n",
    ")"
   ]
  },
  {
   "cell_type": "code",
   "execution_count": null,
   "metadata": {},
   "outputs": [],
   "source": [
    "lm_median_data = smf.ols(formula=\"Mean ~ C(Sample_id)\", data=tidy_df_C0divC1_grouped_median).fit()\n",
    "anova_median_data = sa.stats.anova_lm(lm_median_data)\n",
    "anova_median_data"
   ]
  },
  {
   "cell_type": "code",
   "execution_count": null,
   "metadata": {},
   "outputs": [],
   "source": [
    "sp.posthoc_ttest(\n",
    "    tidy_df_C0divC1_grouped_median,\n",
    "    val_col=\"Mean\",\n",
    "    group_col=\"Sample_id\",\n",
    "    pool_sd=True,\n",
    "    p_adjust=\"holm-sidak\",\n",
    ")"
   ]
  },
  {
   "cell_type": "code",
   "execution_count": null,
   "metadata": {},
   "outputs": [],
   "source": [
    "import os\n",
    "if os.path.isfile(\"Tidy_Image_Analysis_Template.ipynb\"):\n",
    "    os.rename(\"Tidy_Image_Analysis_Template.ipynb\", f\"{aid.exp_analysis_name()}_tidy.ipynb\")"
   ]
  },
  {
   "cell_type": "code",
   "execution_count": null,
   "metadata": {},
   "outputs": [],
   "source": []
  }
 ],
 "metadata": {
  "kernelspec": {
   "display_name": "Python 3",
   "language": "python",
   "name": "python3"
  },
  "language_info": {
   "codemirror_mode": {
    "name": "ipython",
    "version": 3
   },
   "file_extension": ".py",
   "mimetype": "text/x-python",
   "name": "python",
   "nbconvert_exporter": "python",
   "pygments_lexer": "ipython3",
   "version": "3.7.7"
  }
 },
 "nbformat": 4,
 "nbformat_minor": 4
}
